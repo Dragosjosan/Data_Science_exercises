{
 "cells": [
  {
   "cell_type": "code",
   "execution_count": 12,
   "metadata": {},
   "outputs": [],
   "source": [
    "import numpy as np\n"
   ]
  },
  {
   "cell_type": "code",
   "execution_count": 19,
   "metadata": {},
   "outputs": [],
   "source": [
    "# y = mx +b\n",
    "def gradient_descent(x,y):\n",
    "    m_current = b_current = 0\n",
    "    iterations = 1000\n",
    "    for i in range(iterations):\n",
    "        y_predicted = m_current * x + b_currenet\n",
    "        m_deriv = -(2/n)*sum(x*(y-y_predicted))\n",
    "    pass"
   ]
  },
  {
   "cell_type": "code",
   "execution_count": 17,
   "metadata": {},
   "outputs": [],
   "source": [
    "x = np.array([1,2,3,4,5])\n",
    "y = np.array([5,7,911,13])"
   ]
  },
  {
   "cell_type": "code",
   "execution_count": 11,
   "metadata": {},
   "outputs": [
    {
     "name": "stdout",
     "output_type": "stream",
     "text": [
      "-21.60000000000001\n",
      "-22.20000000000001\n",
      "-22.80000000000001\n",
      "-23.400000000000013\n",
      "-24.000000000000014\n",
      "-24.600000000000016\n",
      "-25.200000000000017\n",
      "-25.80000000000002\n",
      "-26.40000000000002\n",
      "-27.00000000000002\n",
      "-27.600000000000023\n",
      "-28.200000000000024\n",
      "-28.800000000000026\n",
      "-29.400000000000027\n",
      "-30.00000000000003\n",
      "-30.60000000000003\n",
      "-31.20000000000003\n",
      "-31.800000000000033\n",
      "-32.400000000000034\n",
      "-33.000000000000036\n"
     ]
    }
   ],
   "source": [
    "\n"
   ]
  },
  {
   "cell_type": "code",
   "execution_count": null,
   "metadata": {},
   "outputs": [],
   "source": []
  }
 ],
 "metadata": {
  "kernelspec": {
   "display_name": "Python 3",
   "language": "python",
   "name": "python3"
  },
  "language_info": {
   "codemirror_mode": {
    "name": "ipython",
    "version": 3
   },
   "file_extension": ".py",
   "mimetype": "text/x-python",
   "name": "python",
   "nbconvert_exporter": "python",
   "pygments_lexer": "ipython3",
   "version": "3.8.5"
  }
 },
 "nbformat": 4,
 "nbformat_minor": 4
}
